{
 "cells": [
  {
   "cell_type": "code",
   "execution_count": 151,
   "metadata": {},
   "outputs": [],
   "source": [
    "import gym\n",
    "import numpy as np\n",
    "import matplotlib\n",
    "import matplotlib.pyplot as plt\n",
    "%matplotlib inline\n",
    "\n",
    "import time\n",
    "from IPython import display\n",
    "from scipy.misc import imsave"
   ]
  },
  {
   "cell_type": "code",
   "execution_count": 152,
   "metadata": {},
   "outputs": [
    {
     "data": {
      "text/plain": [
       "4.5397868702434395e-05"
      ]
     },
     "execution_count": 152,
     "metadata": {},
     "output_type": "execute_result"
    }
   ],
   "source": [
    "def sigmoid(x):\n",
    "    return 1.0 / (1 + np.exp(-x))\n",
    "\n",
    "sigmoid(-10.0)"
   ]
  },
  {
   "cell_type": "code",
   "execution_count": 160,
   "metadata": {},
   "outputs": [],
   "source": [
    "class RandomActionModel:\n",
    "    def __init__(self, env):\n",
    "        self.env = env\n",
    "        \n",
    "    def pick_action(self, _observation):\n",
    "        return self.env.action_space.sample()\n",
    "    \n",
    "    def start_episode(self):\n",
    "        pass\n",
    "    \n",
    "    def report_reward(self, _reward):\n",
    "        pass\n",
    "    \n",
    "    def end_episode(self):\n",
    "        pass\n",
    "\n",
    "    def perform_batch_update(self):\n",
    "        pass\n",
    "\n",
    "gamma = 0.99\n",
    "learning_rate = 0.0001\n",
    "reg_rate = 0.1\n",
    "def discounted_rewards(rewards):\n",
    "    \"\"\" take 1D float array of rewards and compute discounted reward \"\"\"\n",
    "    discounted_r = np.zeros_like(rewards)\n",
    "    running_add = 0\n",
    "    for t in reversed(xrange(0, rewards.size)):\n",
    "        #if r[t] != 0: running_add = 0 # reset the sum, since this was a game boundary (pong specific!)\n",
    "        running_add = running_add * gamma + rewards[t]\n",
    "        discounted_r[t] = running_add\n",
    "    return discounted_r\n",
    "\n",
    "    \n",
    "class PolicyGradientModel:\n",
    "    def __init__(self, env):\n",
    "        self.env = env\n",
    "        self.params = np.random.randn(4)\n",
    "        self._clear_states()\n",
    "        self.epsilon = 0.1\n",
    "        \n",
    "    def _clear_states(self):\n",
    "        self.actions = []\n",
    "        self.probs = []\n",
    "        self.observations = []\n",
    "        self.discounted_rewards = []\n",
    "    \n",
    "    def start_episode(self):\n",
    "        self.current_rewards= []\n",
    "        \n",
    "    def pick_action(self, observation, train_=False):\n",
    "        prob = sigmoid(np.dot(self.params, observation))\n",
    "        \n",
    "        if np.random.uniform() < self.epsilon:\n",
    "            action = self.env.action_space.sample()\n",
    "        else:\n",
    "            action = 1 if np.random.uniform() < prob else 0\n",
    "            \n",
    "        if not train_:\n",
    "            return action\n",
    "        \n",
    "        self.observations.append(observation)\n",
    "        self.actions.append(action)\n",
    "        self.probs.append(prob)\n",
    "        \n",
    "        return action\n",
    "    \n",
    "    def report_reward(self, reward):\n",
    "        self.current_rewards.append(reward)\n",
    "    \n",
    "    def end_episode(self):\n",
    "        current_discouted_rewards = discounted_rewards(np.array(self.current_rewards))\n",
    "        #current_discouted_rewards -= np.mean(current_discouted_rewards)\n",
    "        #current_discouted_rewards /= np.std(current_discouted_rewards)\n",
    "        self.discounted_rewards += current_discouted_rewards.tolist()\n",
    "        self.epsilon = 0.9 * self.epsilon\n",
    "        \n",
    "    def perform_batch_update(self):\n",
    "        if not self.actions:\n",
    "            return\n",
    "        # dL/dW = (y - prob)x (this is same as LR update)\n",
    "        # dU/dW = dL/dW * discounted_rewards\n",
    "        dU = np.dot(\n",
    "            np.array(self.observations).T,\n",
    "            np.vstack((np.array(self.actions) - np.array(self.probs)) * np.array(self.discounted_rewards))\n",
    "        ).ravel()\n",
    "        self.params += learning_rate * dU  #  - reg_rate * self.params)\n",
    "        self._clear_states()"
   ]
  },
  {
   "cell_type": "code",
   "execution_count": 161,
   "metadata": {},
   "outputs": [],
   "source": [
    "img = None\n",
    "\n",
    "def render(image_array):\n",
    "    global img\n",
    "    if img is None:\n",
    "        img = plt.imshow(image_array)\n",
    "    else:\n",
    "        img.set_data(image_array)\n",
    "        display.display(plt.gcf())\n",
    "        display.clear_output(wait=True)"
   ]
  },
  {
   "cell_type": "code",
   "execution_count": 9,
   "metadata": {},
   "outputs": [],
   "source": [
    "# tracking good params here\n",
    "# 107 steps with average of 107.4 rewards with  [-0.73626769  0.62157948 -1.15290086 -3.89834211]\n",
    "# avg steps 115.790000, avg rewards 115.790000 current params [ 0.56468979  0.25939948 -1.30687693 -5.05071115]"
   ]
  },
  {
   "cell_type": "code",
   "execution_count": 174,
   "metadata": {},
   "outputs": [],
   "source": [
    "def run_episode(render_=False, train_=False):\n",
    "    observation = env.reset()\n",
    "    if train_:\n",
    "        model.start_episode()\n",
    "    i = 0\n",
    "    total_rewards = 0\n",
    "    while True:   \n",
    "        if render_:\n",
    "            x = env.render(mode='rgb_array')\n",
    "            render(x)\n",
    "    \n",
    "        action = model.pick_action(observation, train_=train_)\n",
    "        observation, reward, done, info = env.step(action)\n",
    "        \n",
    "        total_rewards += reward\n",
    "\n",
    "        if done: \n",
    "            if train_:\n",
    "                model.report_reward(-200)\n",
    "                model.end_episode()\n",
    "            if render_:\n",
    "                print(observation)\n",
    "            break\n",
    "        else:\n",
    "            if train_:\n",
    "                model.report_reward(reward)\n",
    "        i += 1\n",
    "    return i + 1, total_rewards"
   ]
  },
  {
   "cell_type": "code",
   "execution_count": 188,
   "metadata": {},
   "outputs": [
    {
     "name": "stdout",
     "output_type": "stream",
     "text": [
      "episode number: 100 num_steps: 15, total_rewards: 15, avg steps 14.470000, avg rewards 14.470000 current params [ 0.99610635  0.19203846 -0.82049359 -1.26500317]\n",
      "episode number: 200 num_steps: 17, total_rewards: 17, avg steps 13.190000, avg rewards 13.190000 current params [ 0.9801482   0.08408852 -0.81496708 -1.12660851]\n",
      "episode number: 300 num_steps: 11, total_rewards: 11, avg steps 13.100000, avg rewards 13.100000 current params [ 1.00370291  0.351523   -0.84416553 -1.52488548]\n",
      "episode number: 400 num_steps: 11, total_rewards: 11, avg steps 12.690000, avg rewards 12.690000 current params [ 0.98740144  0.31072781 -0.82465255 -1.46750723]\n",
      "episode number: 500 num_steps: 17, total_rewards: 17, avg steps 11.960000, avg rewards 11.960000 current params [ 0.98035312  0.14053393 -0.81010409 -1.19905487]\n",
      "episode number: 600 num_steps: 10, total_rewards: 10, avg steps 13.370000, avg rewards 13.370000 current params [ 0.98490191  0.12712173 -0.8157177  -1.16916445]\n",
      "episode number: 700 num_steps: 14, total_rewards: 14, avg steps 14.250000, avg rewards 14.250000 current params [ 0.97514441  0.00797888 -0.79323908 -0.96853377]\n",
      "episode number: 800 num_steps: 22, total_rewards: 22, avg steps 13.680000, avg rewards 13.680000 current params [ 0.97834547 -0.00856926 -0.78401833 -0.95162317]\n",
      "episode number: 900 num_steps: 18, total_rewards: 18, avg steps 14.640000, avg rewards 14.640000 current params [ 0.98623421 -0.16747254 -0.79311091 -0.70191375]\n",
      "episode number: 1000 num_steps: 18, total_rewards: 18, avg steps 15.730000, avg rewards 15.730000 current params [ 0.99250447 -0.19400866 -0.74747696 -0.57360691]\n",
      "episode number: 1100 num_steps: 19, total_rewards: 19, avg steps 20.640000, avg rewards 20.640000 current params [ 0.95700384 -0.52751745 -0.69013361 -0.01471186]\n",
      "episode number: 1200 num_steps: 21, total_rewards: 21, avg steps 28.140000, avg rewards 28.140000 current params [ 0.93915674 -0.5888796  -0.60266643  0.39973582]\n",
      "episode number: 1300 num_steps: 34, total_rewards: 34, avg steps 26.890000, avg rewards 26.890000 current params [ 0.94237967 -0.26093072 -0.59245134  0.00667177]\n",
      "episode number: 1400 num_steps: 30, total_rewards: 30, avg steps 21.800000, avg rewards 21.800000 current params [ 0.9553314  -0.21734586 -0.55983559  0.05791681]\n",
      "episode number: 1500 num_steps: 18, total_rewards: 18, avg steps 24.660000, avg rewards 24.660000 current params [ 0.95316169 -0.39561488 -0.50188786  0.45107945]\n",
      "episode number: 1600 num_steps: 60, total_rewards: 60, avg steps 37.350000, avg rewards 37.350000 current params [ 0.82526689 -0.83602531 -0.42963373  1.08424986]\n",
      "episode number: 1700 num_steps: 31, total_rewards: 31, avg steps 43.820000, avg rewards 43.820000 current params [ 0.69612588 -0.72285343 -0.32203859  1.23053781]\n",
      "episode number: 1800 num_steps: 28, total_rewards: 28, avg steps 45.670000, avg rewards 45.670000 current params [ 0.88154055 -0.46674923 -0.2637799   1.345184  ]\n",
      "episode number: 1900 num_steps: 96, total_rewards: 96, avg steps 48.680000, avg rewards 48.680000 current params [ 0.75649241 -0.40756505 -0.13318065  1.61362981]\n",
      "episode number: 2000 num_steps: 28, total_rewards: 28, avg steps 55.600000, avg rewards 55.600000 current params [ 0.59254907 -0.72438868 -0.08873185  1.88055602]\n",
      "episode number: 2100 num_steps: 27, total_rewards: 27, avg steps 57.050000, avg rewards 57.050000 current params [ 0.52254647 -0.96079092 -0.07265987  1.97952005]\n",
      "episode number: 2200 num_steps: 67, total_rewards: 67, avg steps 57.470000, avg rewards 57.470000 current params [ 0.50074874 -0.97544071  0.07094288  2.35735927]\n",
      "episode number: 2300 num_steps: 29, total_rewards: 29, avg steps 60.080000, avg rewards 60.080000 current params [ 0.50833094 -0.92448282  0.14184197  2.47368956]\n",
      "episode number: 2400 num_steps: 83, total_rewards: 83, avg steps 67.090000, avg rewards 67.090000 current params [ 0.5798742  -0.81883061  0.16588742  2.56610413]\n",
      "episode number: 2500 num_steps: 87, total_rewards: 87, avg steps 76.400000, avg rewards 76.400000 current params [ 0.9712538   0.19245919  0.39168099  2.6321511 ]\n",
      "episode number: 2600 num_steps: 57, total_rewards: 57, avg steps 80.650000, avg rewards 80.650000 current params [ 1.12734725  0.73844894  0.44121659  2.48993852]\n",
      "episode number: 2700 num_steps: 76, total_rewards: 76, avg steps 98.080000, avg rewards 98.080000 current params [ 0.35693551 -0.26327977  0.62446344  3.29578012]\n",
      "episode number: 2800 num_steps: 200, total_rewards: 200, avg steps 120.860000, avg rewards 120.860000 current params [ 0.03041841  0.68712132  0.94500207  3.62016236]\n",
      "episode number: 2900 num_steps: 148, total_rewards: 148, avg steps 150.210000, avg rewards 150.210000 current params [-0.45779886  0.78090654  1.15187287  3.91597408]\n",
      "episode number: 3000 num_steps: 200, total_rewards: 200, avg steps 171.770000, avg rewards 171.770000 current params [-0.3534973   0.79952961  1.36509343  4.16792958]\n",
      "episode number: 3100 num_steps: 126, total_rewards: 126, avg steps 173.960000, avg rewards 173.960000 current params [-0.57377444  1.09296572  1.66535171  4.37614011]\n",
      "episode number: 3200 num_steps: 200, total_rewards: 200, avg steps 153.270000, avg rewards 153.270000 current params [-1.12665602  0.7819236   1.74891746  4.67648472]\n",
      "episode number: 3300 num_steps: 115, total_rewards: 115, avg steps 145.180000, avg rewards 145.180000 current params [-1.78302042  0.69752629  1.83337433  4.69314025]\n",
      "episode number: 3400 num_steps: 200, total_rewards: 200, avg steps 157.890000, avg rewards 157.890000 current params [-0.86528818  1.70292173  1.97351966  5.14387264]\n",
      "episode number: 3500 num_steps: 108, total_rewards: 108, avg steps 190.070000, avg rewards 190.070000 current params [-1.31879703  1.64670026  2.06786958  5.17768644]\n",
      "episode number: 3600 num_steps: 155, total_rewards: 155, avg steps 192.640000, avg rewards 192.640000 current params [-0.82592338  1.65173349  2.07642493  5.489356  ]\n",
      "episode number: 3700 num_steps: 200, total_rewards: 200, avg steps 194.800000, avg rewards 194.800000 current params [-0.54867517  1.52105748  2.18728145  5.62068898]\n",
      "episode number: 3800 num_steps: 200, total_rewards: 200, avg steps 193.850000, avg rewards 193.850000 current params [-0.36141808  1.32012555  2.2377249   5.73006329]\n",
      "episode number: 3900 num_steps: 200, total_rewards: 200, avg steps 192.400000, avg rewards 192.400000 current params [-0.75931412  1.39950364  2.30252072  5.78178908]\n",
      "episode number: 4000 num_steps: 200, total_rewards: 200, avg steps 189.980000, avg rewards 189.980000 current params [-0.12780341  1.38329017  2.38543465  5.98020195]\n",
      "episode number: 4100 num_steps: 200, total_rewards: 200, avg steps 194.840000, avg rewards 194.840000 current params [-0.92277515  0.97899329  2.45474708  6.10268662]\n",
      "episode number: 4200 num_steps: 200, total_rewards: 200, avg steps 192.020000, avg rewards 192.020000 current params [-0.84222452  1.27690336  2.5004369   6.08594115]\n",
      "episode number: 4300 num_steps: 182, total_rewards: 182, avg steps 179.270000, avg rewards 179.270000 current params [-1.01503887  1.33497306  2.53294092  6.21114154]\n",
      "episode number: 4400 num_steps: 200, total_rewards: 200, avg steps 193.230000, avg rewards 193.230000 current params [-0.64090396  1.74177883  2.599545    6.05326242]\n",
      "episode number: 4500 num_steps: 200, total_rewards: 200, avg steps 197.890000, avg rewards 197.890000 current params [-0.64440441  1.66023045  2.59641068  6.1462961 ]\n",
      "episode number: 4600 num_steps: 200, total_rewards: 200, avg steps 196.510000, avg rewards 196.510000 current params [-0.63814188  1.98833266  2.65760757  6.04708014]\n",
      "episode number: 4700 num_steps: 200, total_rewards: 200, avg steps 195.190000, avg rewards 195.190000 current params [-0.68928589  1.90211102  2.74386267  6.16297039]\n",
      "episode number: 4800 num_steps: 200, total_rewards: 200, avg steps 195.800000, avg rewards 195.800000 current params [-0.66802007  1.7903399   2.78874534  6.0957874 ]\n",
      "episode number: 4900 num_steps: 200, total_rewards: 200, avg steps 198.290000, avg rewards 198.290000 current params [-0.51267465  1.94213165  2.87129798  6.16034004]\n",
      "episode number: 5000 num_steps: 200, total_rewards: 200, avg steps 197.500000, avg rewards 197.500000 current params [-0.51412173  2.04401868  2.89410768  6.17903563]\n"
     ]
    },
    {
     "name": "stdout",
     "output_type": "stream",
     "text": [
      "episode number: 5100 num_steps: 200, total_rewards: 200, avg steps 197.200000, avg rewards 197.200000 current params [-1.05627296  1.66141552  2.88288536  6.26274346]\n",
      "episode number: 5200 num_steps: 200, total_rewards: 200, avg steps 196.560000, avg rewards 196.560000 current params [-1.05930921  1.91046013  2.9824406   6.20124372]\n",
      "episode number: 5300 num_steps: 156, total_rewards: 156, avg steps 193.350000, avg rewards 193.350000 current params [-1.25561253  1.72893427  2.99620297  6.31467099]\n",
      "episode number: 5400 num_steps: 200, total_rewards: 200, avg steps 195.910000, avg rewards 195.910000 current params [-0.58031301  2.14693877  3.04299014  6.1485938 ]\n",
      "episode number: 5500 num_steps: 200, total_rewards: 200, avg steps 197.280000, avg rewards 197.280000 current params [-0.70803621  1.91899727  3.10073742  6.26443674]\n",
      "episode number: 5600 num_steps: 200, total_rewards: 200, avg steps 197.110000, avg rewards 197.110000 current params [-0.72871111  2.01083697  3.10290739  6.3094249 ]\n",
      "episode number: 5700 num_steps: 200, total_rewards: 200, avg steps 197.690000, avg rewards 197.690000 current params [-0.85245326  1.87821781  3.18348175  6.37238707]\n",
      "episode number: 5800 num_steps: 200, total_rewards: 200, avg steps 197.970000, avg rewards 197.970000 current params [-0.59922552  1.95696381  3.23130544  6.55494572]\n",
      "episode number: 5900 num_steps: 200, total_rewards: 200, avg steps 199.080000, avg rewards 199.080000 current params [-0.34869054  1.63957468  3.1794936   6.74473224]\n",
      "episode number: 6000 num_steps: 200, total_rewards: 200, avg steps 198.630000, avg rewards 198.630000 current params [-0.4629619   1.53969453  3.18677661  6.83810294]\n",
      "episode number: 6100 num_steps: 126, total_rewards: 126, avg steps 198.140000, avg rewards 198.140000 current params [-0.27661968  1.31669242  3.22267212  6.86484042]\n",
      "episode number: 6200 num_steps: 200, total_rewards: 200, avg steps 199.700000, avg rewards 199.700000 current params [-0.44069286  1.36905493  3.31162192  7.00540053]\n",
      "episode number: 6300 num_steps: 200, total_rewards: 200, avg steps 197.930000, avg rewards 197.930000 current params [-0.68553203  1.59389345  3.35000891  6.937726  ]\n",
      "episode number: 6400 num_steps: 200, total_rewards: 200, avg steps 198.360000, avg rewards 198.360000 current params [-0.60940819  1.31840228  3.36895787  6.94620354]\n",
      "episode number: 6500 num_steps: 200, total_rewards: 200, avg steps 197.490000, avg rewards 197.490000 current params [-0.22750179  1.41778535  3.36807819  7.06471372]\n",
      "episode number: 6600 num_steps: 200, total_rewards: 200, avg steps 194.990000, avg rewards 194.990000 current params [-0.29286847  1.72616666  3.43184261  6.86081537]\n",
      "episode number: 6700 num_steps: 200, total_rewards: 200, avg steps 198.830000, avg rewards 198.830000 current params [-0.12809508  1.44370112  3.43913857  7.03305038]\n",
      "episode number: 6800 num_steps: 200, total_rewards: 200, avg steps 198.380000, avg rewards 198.380000 current params [-0.15783879  1.28253305  3.40628218  7.09777067]\n",
      "episode number: 6900 num_steps: 200, total_rewards: 200, avg steps 198.910000, avg rewards 198.910000 current params [-0.40674382  1.26298547  3.368624    7.19544285]\n",
      "episode number: 7000 num_steps: 200, total_rewards: 200, avg steps 197.660000, avg rewards 197.660000 current params [-0.4798852   1.15617781  3.36721706  7.12476931]\n",
      "episode number: 7100 num_steps: 200, total_rewards: 200, avg steps 197.970000, avg rewards 197.970000 current params [-0.27321405  1.4311859   3.36802328  7.03101501]\n",
      "episode number: 7200 num_steps: 200, total_rewards: 200, avg steps 199.930000, avg rewards 199.930000 current params [-0.3054275   1.63361259  3.36937207  7.10740143]\n",
      "episode number: 7300 num_steps: 200, total_rewards: 200, avg steps 200.000000, avg rewards 200.000000 current params [-0.54316859  1.49820175  3.39188489  7.13489842]\n",
      "episode number: 7400 num_steps: 200, total_rewards: 200, avg steps 198.130000, avg rewards 198.130000 current params [-0.4418366   1.49295438  3.35134346  6.94806731]\n",
      "episode number: 7500 num_steps: 200, total_rewards: 200, avg steps 199.430000, avg rewards 199.430000 current params [-0.46405497  1.66122199  3.32843121  6.98154781]\n",
      "episode number: 7600 num_steps: 200, total_rewards: 200, avg steps 199.350000, avg rewards 199.350000 current params [-0.58698213  1.58941503  3.27647672  6.94842796]\n",
      "episode number: 7700 num_steps: 200, total_rewards: 200, avg steps 199.020000, avg rewards 199.020000 current params [-0.87817167  1.54969226  3.30822106  6.95018022]\n",
      "episode number: 7800 num_steps: 200, total_rewards: 200, avg steps 199.870000, avg rewards 199.870000 current params [-0.62984719  1.58893848  3.33067185  6.97293019]\n",
      "episode number: 7900 num_steps: 200, total_rewards: 200, avg steps 199.690000, avg rewards 199.690000 current params [-0.63511052  1.46651073  3.3647962   6.87125095]\n",
      "episode number: 8000 num_steps: 200, total_rewards: 200, avg steps 198.670000, avg rewards 198.670000 current params [-0.60221923  1.73598957  3.37243288  6.93248346]\n",
      "episode number: 8100 num_steps: 200, total_rewards: 200, avg steps 198.670000, avg rewards 198.670000 current params [-0.29311196  2.04239371  3.33235329  6.8702672 ]\n",
      "episode number: 8200 num_steps: 200, total_rewards: 200, avg steps 198.450000, avg rewards 198.450000 current params [-0.21669705  2.14376154  3.36334245  6.89102086]\n",
      "episode number: 8300 num_steps: 200, total_rewards: 200, avg steps 197.180000, avg rewards 197.180000 current params [-0.26849869  2.17084116  3.3708356   6.81529481]\n",
      "episode number: 8400 num_steps: 200, total_rewards: 200, avg steps 198.390000, avg rewards 198.390000 current params [-0.48911296  1.57622762  3.34316808  7.09845172]\n",
      "episode number: 8500 num_steps: 200, total_rewards: 200, avg steps 199.220000, avg rewards 199.220000 current params [-0.2685658   1.6046087   3.37634936  7.20066687]\n",
      "episode number: 8600 num_steps: 200, total_rewards: 200, avg steps 199.770000, avg rewards 199.770000 current params [-0.39718399  1.70274426  3.42267304  7.14338052]\n",
      "episode number: 8700 num_steps: 190, total_rewards: 190, avg steps 199.900000, avg rewards 199.900000 current params [-0.17867593  1.75454696  3.46384279  7.18191715]\n",
      "episode number: 8800 num_steps: 200, total_rewards: 200, avg steps 199.750000, avg rewards 199.750000 current params [-0.44305124  1.28351089  3.46551121  7.28277129]\n",
      "episode number: 8900 num_steps: 200, total_rewards: 200, avg steps 199.670000, avg rewards 199.670000 current params [ 0.03757258  1.41781386  3.42301342  7.34538628]\n",
      "episode number: 9000 num_steps: 200, total_rewards: 200, avg steps 198.100000, avg rewards 198.100000 current params [-0.26053035  0.99041515  3.45570943  7.38810698]\n",
      "episode number: 9100 num_steps: 200, total_rewards: 200, avg steps 198.560000, avg rewards 198.560000 current params [-0.27014166  1.26912381  3.48966473  7.33449834]\n",
      "episode number: 9200 num_steps: 200, total_rewards: 200, avg steps 198.300000, avg rewards 198.300000 current params [ 0.05716247  1.67352613  3.48694624  7.2088933 ]\n",
      "episode number: 9300 num_steps: 200, total_rewards: 200, avg steps 197.400000, avg rewards 197.400000 current params [-0.02003443  1.69569391  3.4919744   7.29260955]\n",
      "episode number: 9400 num_steps: 200, total_rewards: 200, avg steps 199.220000, avg rewards 199.220000 current params [-0.11746074  1.53754517  3.55243644  7.39884238]\n",
      "episode number: 9500 num_steps: 200, total_rewards: 200, avg steps 198.160000, avg rewards 198.160000 current params [-0.15777849  1.32749792  3.6079388   7.56167992]\n",
      "episode number: 9600 num_steps: 200, total_rewards: 200, avg steps 199.810000, avg rewards 199.810000 current params [-0.07667576  1.43361031  3.62998848  7.70229021]\n",
      "episode number: 9700 num_steps: 200, total_rewards: 200, avg steps 198.730000, avg rewards 198.730000 current params [-0.17596102  1.56738837  3.65361499  7.74296363]\n",
      "episode number: 9800 num_steps: 160, total_rewards: 160, avg steps 198.930000, avg rewards 198.930000 current params [-0.1674048   1.66498474  3.64015809  7.65314295]\n",
      "episode number: 9900 num_steps: 200, total_rewards: 200, avg steps 198.600000, avg rewards 198.600000 current params [-0.01159677  1.76870701  3.65715116  7.71591895]\n",
      "episode number: 9999 num_steps: 200, total_rewards: 200, avg steps 197.190000, avg rewards 197.190000 current params [-0.38008673  1.62650571  3.72289387  7.7428878 ]\n"
     ]
    }
   ],
   "source": [
    "env = gym.make('CartPole-v0')\n",
    "model = PolicyGradientModel(env)\n",
    "sum_steps = 0.\n",
    "sum_rewards = 0.\n",
    "all_avg_rewards = []\n",
    "num_iter = 10000\n",
    "for i in xrange(num_iter): \n",
    "    num_steps, rewards = run_episode(train_=True)\n",
    "    all_rewards.append(rewards)\n",
    "\n",
    "    sum_steps += num_steps\n",
    "    sum_rewards += rewards\n",
    "    if (i > 0 and i % 100 == 0) or i == num_iter - 1:\n",
    "        print(\"episode number: %d num_steps: %d, total_rewards: %d, avg steps %f, avg rewards %f current params %s\" % (\n",
    "            i, num_steps, rewards, sum_steps / 100., sum_rewards / 100., model.params)\n",
    "        )\n",
    "        all_avg_rewards.append(float(sum_rewards) / 100.)\n",
    "        sum_steps = 0.\n",
    "        sum_rewards = 0.\n",
    "        \n",
    "    if i % 10 == 0:\n",
    "        model.perform_batch_update()"
   ]
  },
  {
   "cell_type": "code",
   "execution_count": 190,
   "metadata": {},
   "outputs": [
    {
     "data": {
      "text/plain": [
       "Text(0,0.5,u'Average rewards')"
      ]
     },
     "execution_count": 190,
     "metadata": {},
     "output_type": "execute_result"
    },
    {
     "data": {
      "image/png": "[encoded data removed]",
      "text/plain": [
       "<matplotlib.figure.Figure at 0x118e7c390>"
      ]
     },
     "metadata": {},
     "output_type": "display_data"
    }
   ],
   "source": [
    "plt.plot(np.arange(len(all_avg_rewards)), all_avg_rewards)\n",
    "plt.xlabel('No. episodes in 100s')\n",
    "plt.ylabel('Average rewards')"
   ]
  },
  {
   "cell_type": "code",
   "execution_count": 191,
   "metadata": {},
   "outputs": [
    {
     "data": {
      "text/plain": [
       "array([-0.38008673,  1.62650571,  3.72289387,  7.7428878 ])"
      ]
     },
     "execution_count": 191,
     "metadata": {},
     "output_type": "execute_result"
    }
   ],
   "source": [
    "model.params"
   ]
  },
  {
   "cell_type": "code",
   "execution_count": 194,
   "metadata": {},
   "outputs": [
    {
     "name": "stdout",
     "output_type": "stream",
     "text": [
      "[-0.77101531  0.78604245 -0.02394716 -0.4281628 ]\n"
     ]
    },
    {
     "data": {
      "text/plain": [
       "(200, 200.0)"
      ]
     },
     "execution_count": 194,
     "metadata": {},
     "output_type": "execute_result"
    },
    {
     "data": {
      "image/png": "[encoded data removed]",
      "text/plain": [
       "<matplotlib.figure.Figure at 0x11c4e8c10>"
      ]
     },
     "metadata": {},
     "output_type": "display_data"
    }
   ],
   "source": [
    "img = None\n",
    "run_episode(render_=True)"
   ]
  },
  {
   "cell_type": "code",
   "execution_count": null,
   "metadata": {},
   "outputs": [],
   "source": []
  }
 ],
 "metadata": {
  "kernelspec": {
   "display_name": "Python 2",
   "language": "python",
   "name": "python2"
  },
  "language_info": {
   "codemirror_mode": {
    "name": "ipython",
    "version": 2
   },
   "file_extension": ".py",
   "mimetype": "text/x-python",
   "name": "python",
   "nbconvert_exporter": "python",
   "pygments_lexer": "ipython2",
   "version": "2.7.13"
  }
 },
 "nbformat": 4,
 "nbformat_minor": 2
}
